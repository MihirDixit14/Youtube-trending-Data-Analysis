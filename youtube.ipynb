{
 "cells": [
  {
   "cell_type": "markdown",
   "metadata": {},
   "source": [
    "This is a project to showcase my skills in python using pyspark. Pyspark was used because of its compatibility with large datasets. This dataset consists of trending vdeos on youtube. The size of the dataset is 4.2 GB. "
   ]
  },
  {
   "cell_type": "code",
   "execution_count": 1,
   "metadata": {},
   "outputs": [],
   "source": [
    "#import pyspark Libraries \n",
    "\n",
    "import pyspark\n",
    "from pyspark.sql.functions import udf,col\n",
    "from pyspark.sql.types import StringType\n",
    "from langdetect import detect\n",
    "from pyspark.sql import SparkSession\n"
   ]
  },
  {
   "cell_type": "markdown",
   "metadata": {},
   "source": [
    "Intitalize the pyspark session and read the csv file into a dataframe"
   ]
  },
  {
   "cell_type": "code",
   "execution_count": 2,
   "metadata": {},
   "outputs": [],
   "source": [
    "\n",
    "# Initialize Spark session\n",
    "spark = SparkSession.builder.appName(\"Spotify\").getOrCreate()\n",
    "\n",
    "# Read the CSV file into a DataFrame\n",
    "df = spark.read.csv(r\".\\youtube.csv\", header=True, inferSchema=True)\n"
   ]
  },
  {
   "cell_type": "markdown",
   "metadata": {},
   "source": [
    "Data Cleaning and data filtering to only include trending video data from USA"
   ]
  },
  {
   "cell_type": "code",
   "execution_count": 3,
   "metadata": {},
   "outputs": [
    {
     "name": "stdout",
     "output_type": "stream",
     "text": [
      "+-----------+--------------------+--------------------+----------------------+--------------------+--------------------+--------------------+-----------------------+-----------------+--------------------+--------------+---------------+----------------+----------------------+----------------+----------------+-------------------+--------------------+--------------------+------------------+--------------------+---------------+------------------+------------------------+-------------------------------+-------------------+-----------------------+-----------------------------+\n",
      "|   video_id|  video_published_at|video_trending__date|video_trending_country|          channel_id|         video_title|   video_description|video_default_thumbnail|video_category_id|          video_tags|video_duration|video_dimension|video_definition|video_licensed_content|video_view_count|video_like_count|video_comment_count|       channel_title| channel_description|channel_custom_url|channel_published_at|channel_country|channel_view_count|channel_subscriber_count|channel_have_hidden_subscribers|channel_video_count|channel_localized_title|channel_localized_description|\n",
      "+-----------+--------------------+--------------------+----------------------+--------------------+--------------------+--------------------+-----------------------+-----------------+--------------------+--------------+---------------+----------------+----------------------+----------------+----------------+-------------------+--------------------+--------------------+------------------+--------------------+---------------+------------------+------------------------+-------------------------------+-------------------+-----------------------+-----------------------------+\n",
      "|AsNvdujMmTI|2024-10-11T01:25:34Z|          2024.10.12|         United States|UCBi2mrWuNuyYy4gb...|Hurricane Milton ...|The storm roared ...|   https://i.ytimg.c...|  News & Politics|ABC,ABC News,Coas...|       PT8M41S|             2d|              hd|                  True|       2088343.0|         15045.0|             3808.0|            ABC News|ABC News is your ...|          @abcnews|2006-08-07T23:12:21Z|  United States|     15599252764.0|              17600000.0|                          False|            93833.0|               ABC News|         ABC News is your ...|\n",
      "|HZoaJF_5BiU|2024-10-08T21:35:21Z|          2024.10.12|         United States|UC9k-yiEpRHMNVOnO...|Why a Family Left...|A Florida family ...|   https://i.ytimg.c...|  News & Politics|weather,caught on...|       PT1M34S|             2d|              hd|                  True|       1181122.0|         13718.0|             2106.0|      Inside Edition|Inside Edition is...|    @insideedition|2012-10-09T00:36:32Z|  United States|     24520422688.0|              13400000.0|                          False|            35793.0|         Inside Edition|         Inside Edition is...|\n",
      "|43t7fNf8oEE|2024-10-08T14:41:01Z|          2024.10.12|         United States|UCQAUoXXSGHSntpTP...|What is storm sur...|As Hurricane Milt...|   https://i.ytimg.c...|  News & Politics|[ severe-weather,...|       PT1M52S|             2d|              hd|                  True|        241070.0|          1519.0|              208.0|   NEWS CENTER Maine|Through in-depth ...|  @newscentermaine|2016-03-21T22:13:27Z|  United States|        85800450.0|                113000.0|                          False|            56289.0|      NEWS CENTER Maine|         Through in-depth ...|\n",
      "|zymon6MA4xk|2024-10-06T19:54:42Z|          2024.10.12|         United States|UCcoRzQmLNJ40TKDq...|   Amuneki - In Vain|   Amuneki - In Vain|   https://i.ytimg.c...|            Music|amuneki,amuneki i...|       PT3M32S|             2d|              hd|                 False|        192379.0|         26164.0|               69.0|Amuneki Off The B...|The official YouT...|          @amuneki|2016-12-02T00:40:10Z|        Jamaica|          608700.0|                 54400.0|                          False|               14.0|   Amuneki Off The B...|         The official YouT...|\n",
      "|HZoaJF_5BiU|2024-10-08T21:35:21Z|          2024.10.13|         United States|UC9k-yiEpRHMNVOnO...|Why a Family Left...|A Florida family ...|   https://i.ytimg.c...|  News & Politics|weather,caught on...|       PT1M34S|             2d|              hd|                  True|       1263100.0|         15268.0|             2289.0|      Inside Edition|Inside Edition is...|    @insideedition|2012-10-09T00:36:32Z|  United States|     24523671608.0|              13400000.0|                          False|            35797.0|         Inside Edition|         Inside Edition is...|\n",
      "+-----------+--------------------+--------------------+----------------------+--------------------+--------------------+--------------------+-----------------------+-----------------+--------------------+--------------+---------------+----------------+----------------------+----------------+----------------+-------------------+--------------------+--------------------+------------------+--------------------+---------------+------------------+------------------------+-------------------------------+-------------------+-----------------------+-----------------------------+\n",
      "only showing top 5 rows\n",
      "\n",
      "root\n",
      " |-- video_id: string (nullable = true)\n",
      " |-- video_published_at: string (nullable = true)\n",
      " |-- video_trending__date: string (nullable = true)\n",
      " |-- video_trending_country: string (nullable = true)\n",
      " |-- channel_id: string (nullable = true)\n",
      " |-- video_title: string (nullable = true)\n",
      " |-- video_description: string (nullable = true)\n",
      " |-- video_default_thumbnail: string (nullable = true)\n",
      " |-- video_category_id: string (nullable = true)\n",
      " |-- video_tags: string (nullable = true)\n",
      " |-- video_duration: string (nullable = true)\n",
      " |-- video_dimension: string (nullable = true)\n",
      " |-- video_definition: string (nullable = true)\n",
      " |-- video_licensed_content: string (nullable = true)\n",
      " |-- video_view_count: string (nullable = true)\n",
      " |-- video_like_count: string (nullable = true)\n",
      " |-- video_comment_count: string (nullable = true)\n",
      " |-- channel_title: string (nullable = true)\n",
      " |-- channel_description: string (nullable = true)\n",
      " |-- channel_custom_url: string (nullable = true)\n",
      " |-- channel_published_at: string (nullable = true)\n",
      " |-- channel_country: string (nullable = true)\n",
      " |-- channel_view_count: string (nullable = true)\n",
      " |-- channel_subscriber_count: string (nullable = true)\n",
      " |-- channel_have_hidden_subscribers: string (nullable = true)\n",
      " |-- channel_video_count: string (nullable = true)\n",
      " |-- channel_localized_title: string (nullable = true)\n",
      " |-- channel_localized_description: string (nullable = true)\n",
      "\n",
      "+--------------------+-----+\n",
      "|   video_category_id|count|\n",
      "+--------------------+-----+\n",
      "|     News & Politics|  172|\n",
      "|               Music|   31|\n",
      "|       Entertainment|   41|\n",
      "|              Sports|   46|\n",
      "|      People & Blogs|   17|\n",
      "|              Comedy|    5|\n",
      "|              Gaming|   28|\n",
      "| but that's just ...|    7|\n",
      "| or dismantle cri...|    5|\n",
      "+--------------------+-----+\n",
      "\n"
     ]
    }
   ],
   "source": [
    "df_new=df.dropna()\n",
    "df_us = df_new.filter(df.video_trending_country == \"United States\")\n",
    "df_us.show(5)\n",
    "df_us.printSchema()\n",
    "df_us.groupBy(\"video_category_id\").count().show()\n"
   ]
  },
  {
   "cell_type": "markdown",
   "metadata": {},
   "source": [
    "Find Correlation between Video views count and video like count. The results show between the two is 0.654 which shows that in most cases increase in views means increase in likes. But  "
   ]
  },
  {
   "cell_type": "code",
   "execution_count": 4,
   "metadata": {},
   "outputs": [
    {
     "name": "stdout",
     "output_type": "stream",
     "text": [
      "0.6542120167272238\n"
     ]
    }
   ],
   "source": [
    "df_us = df_us.withColumn(\"video_view_count\", col(\"video_view_count\").cast(\"int\"))\n",
    "df_us = df_us.withColumn(\"video_like_count\", col(\"video_like_count\").cast(\"int\"))\n",
    "correlation = df_us.corr(\"video_view_count\", \"video_like_count\")\n",
    "print(correlation)"
   ]
  }
 ],
 "metadata": {
  "kernelspec": {
   "display_name": "Python 3",
   "language": "python",
   "name": "python3"
  },
  "language_info": {
   "codemirror_mode": {
    "name": "ipython",
    "version": 3
   },
   "file_extension": ".py",
   "mimetype": "text/x-python",
   "name": "python",
   "nbconvert_exporter": "python",
   "pygments_lexer": "ipython3",
   "version": "3.11.3"
  }
 },
 "nbformat": 4,
 "nbformat_minor": 2
}
